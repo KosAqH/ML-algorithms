{
 "cells": [
  {
   "cell_type": "markdown",
   "metadata": {},
   "source": [
    "<h1>K Nearest Neighbors</h1>\n",
    "\n",
    "<h3>Basic info:</h3>\n",
    "<li> Algorithm classifies new objects based on class of majority and k of his closest neighbors.\n",
    "<li> It's example of supervised learning.\n",
    "<li> It's really simply method but it isn't fast so it may not be best choice when dealing with a lot of data.\n",
    "<li> It works in multi dimensional datasets.\n",
    "\n",
    "<h3>How to choose k value</h3>\n",
    "<li> k should be even number if number of classes is odd. Otherwise k should be even.\n",
    "<li> k should be greater than number of classes.\n",
    "\n",
    "<h3>Alternative metrics</h3>\n",
    "<li> Euclidean distance\n",
    "<li> Manhattan distance\n",
    "\n",
    "\n"
   ]
  },
  {
   "cell_type": "markdown",
   "metadata": {},
   "source": [
    "<h2>Import stuff</h2>"
   ]
  },
  {
   "cell_type": "code",
   "execution_count": 1,
   "metadata": {},
   "outputs": [],
   "source": [
    "import numpy as np"
   ]
  },
  {
   "cell_type": "markdown",
   "metadata": {},
   "source": [
    "<h2>Implementing metrics</h2>"
   ]
  },
  {
   "cell_type": "markdown",
   "metadata": {},
   "source": [
    "Euclidean metrics:\n",
    "$$\n",
    "  d = \\sqrt{(a_1 - b_1)^2 + (a_2 - b_2)^2 + \\ldots + (a_n - b_n)^2 }\n",
    "$$"
   ]
  },
  {
   "cell_type": "code",
   "execution_count": 2,
   "metadata": {},
   "outputs": [],
   "source": [
    "def EuclideanMetrics(p1, p2) -> float:\n",
    "    d = 0\n",
    "    for a, b in zip(p1,p2):\n",
    "        d += (a - b) ** 2\n",
    "    return np.sqrt(d)"
   ]
  },
  {
   "cell_type": "markdown",
   "metadata": {},
   "source": [
    "$$\n",
    "d = \\sum^n_{i=0}|p1_i - p2_i|\n",
    "$$"
   ]
  },
  {
   "cell_type": "code",
   "execution_count": 3,
   "metadata": {},
   "outputs": [],
   "source": [
    "def ManhattanMetrics(p1, p2) -> float:\n",
    "    d = 0\n",
    "    for a, b in zip (p1, p2):\n",
    "        d += np.abs(a - b)\n",
    "    return d\n"
   ]
  },
  {
   "cell_type": "markdown",
   "metadata": {},
   "source": [
    "<h1>My KNN class"
   ]
  },
  {
   "cell_type": "code",
   "execution_count": 30,
   "metadata": {},
   "outputs": [],
   "source": [
    "class KNN():\n",
    "    def __init__(self, k=5, metric='Euclidean'):\n",
    "        self.k_ = k\n",
    "        self.metric_ = metric\n",
    "    \n",
    "    def fit(self, X, y):\n",
    "        self.X_ = X.copy()\n",
    "        self.y_ = y.copy()\n",
    "\n",
    "    def predict(self, X) -> np.ndarray:\n",
    "        predicted_values = []\n",
    "        for x in X:\n",
    "            # Calculate distance between x and trained points \n",
    "            distances = self.dist(x)\n",
    "            # Sort all objects in X_ by distance to x \n",
    "            # and select k of them that are the closest to x\n",
    "            closest_idx = np.argsort(distances)[:self.k_]\n",
    "            # Return class that has majority of them\n",
    "            predicted_values.append(max(self.y_[closest_idx]))\n",
    "        return np.array(predicted_values)\n",
    "\n",
    "    def dist(self, x) -> list:\n",
    "        distances = []\n",
    "        for x_trained in self.X_:\n",
    "            if self.metric_ == \"Euclidean\":\n",
    "                distances.append(EuclideanMetrics(x, x_trained))\n",
    "            elif self.metric_ == \"Manhattan\":\n",
    "                distances.append(ManhattanMetrics(x, x_trained))\n",
    "        return distances\n",
    "    \n",
    "    def calc_error(self, X, y):\n",
    "        y_predicted = self.predict(X)\n",
    "        return sum(y_predicted == y)/len(y)\n",
    "\n",
    "\n"
   ]
  },
  {
   "cell_type": "code",
   "execution_count": 33,
   "metadata": {},
   "outputs": [
    {
     "name": "stdout",
     "output_type": "stream",
     "text": [
      "[0.]\n"
     ]
    }
   ],
   "source": [
    "knn = KNN(k=3)\n",
    "X = [[0], [1], [2], [1], [7], [8], [7], [8]]\n",
    "y = [0, 0, 0, 0, 1, 1, 1, 1]\n",
    "X = np.array(X)\n",
    "y = np.array(y)"
   ]
  },
  {
   "cell_type": "markdown",
   "metadata": {},
   "source": [
    "<h3>Bibliography</h3>\n",
    "<li> https://scikit-learn.org/stable/modules/generated/sklearn.neighbors.KNeighborsClassifier.html\n",
    "<li>https://en.wikipedia.org/wiki/Taxicab_geometry\n",
    "<li>https://aszokalski.github.io/AI/KNN.html\n",
    "<li>Data Science Algorithms in a Week, Dávid Natingga, Packt"
   ]
  }
 ],
 "metadata": {
  "interpreter": {
   "hash": "fdc7e2822602ca3ffc6dd5398f4164245be80577f6bc72a7c883b57c4ac10aa4"
  },
  "kernelspec": {
   "display_name": "Python 3.8.8 ('venv': venv)",
   "language": "python",
   "name": "python3"
  },
  "language_info": {
   "codemirror_mode": {
    "name": "ipython",
    "version": 3
   },
   "file_extension": ".py",
   "mimetype": "text/x-python",
   "name": "python",
   "nbconvert_exporter": "python",
   "pygments_lexer": "ipython3",
   "version": "3.8.8"
  },
  "orig_nbformat": 4
 },
 "nbformat": 4,
 "nbformat_minor": 2
}
